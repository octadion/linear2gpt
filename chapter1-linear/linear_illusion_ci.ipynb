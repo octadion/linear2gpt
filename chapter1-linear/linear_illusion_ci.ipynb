{
  "nbformat": 4,
  "nbformat_minor": 0,
  "metadata": {
    "colab": {
      "provenance": []
    },
    "kernelspec": {
      "name": "python3",
      "display_name": "Python 3"
    },
    "language_info": {
      "name": "python"
    }
  },
  "cells": [
    {
      "cell_type": "code",
      "execution_count": 1,
      "metadata": {
        "id": "86bxqBYUhG-G"
      },
      "outputs": [],
      "source": [
        "import numpy as np\n",
        "import statsmodels.api as sm\n",
        "import matplotlib.pyplot as plt\n",
        "import pandas as pd\n",
        "\n",
        "\n",
        "np.random.seed(4873)"
      ]
    },
    {
      "cell_type": "code",
      "source": [
        "data = pd.read_csv('simple_example.csv')\n",
        "Y = data[['y']]\n",
        "X = data[['x']]\n",
        "# Add a new random variable, the coefficient of this variable should be 0\n",
        "X['z'] = np.random.randint(2, size=20)\n",
        "# Add a constant variable\n",
        "X = sm.add_constant(X)"
      ],
      "metadata": {
        "id": "edBpkoUChWJb"
      },
      "execution_count": 2,
      "outputs": []
    },
    {
      "cell_type": "code",
      "source": [
        "# Build and train the model\n",
        "model = sm.OLS(Y, X)\n",
        "re = model.fit()"
      ],
      "metadata": {
        "id": "cizxsu9-heEi"
      },
      "execution_count": 3,
      "outputs": []
    },
    {
      "cell_type": "code",
      "source": [
        "# Overall statistical analysis results\n",
        "print(re.summary())"
      ],
      "metadata": {
        "colab": {
          "base_uri": "https://localhost:8080/"
        },
        "id": "KPswjD5shh1g",
        "outputId": "c7695923-2427-4a6a-9b58-563d4988432b"
      },
      "execution_count": 4,
      "outputs": [
        {
          "output_type": "stream",
          "name": "stdout",
          "text": [
            "                            OLS Regression Results                            \n",
            "==============================================================================\n",
            "Dep. Variable:                      y   R-squared:                       0.963\n",
            "Model:                            OLS   Adj. R-squared:                  0.959\n",
            "Method:                 Least Squares   F-statistic:                     222.8\n",
            "Date:                Wed, 31 Jul 2024   Prob (F-statistic):           6.38e-13\n",
            "Time:                        02:02:34   Log-Likelihood:                -31.141\n",
            "No. Observations:                  20   AIC:                             68.28\n",
            "Df Residuals:                      17   BIC:                             71.27\n",
            "Df Model:                           2                                         \n",
            "Covariance Type:            nonrobust                                         \n",
            "==============================================================================\n",
            "                 coef    std err          t      P>|t|      [0.025      0.975]\n",
            "------------------------------------------------------------------------------\n",
            "const         -0.8983      0.953     -0.942      0.359      -2.910       1.113\n",
            "x              1.0400      0.050     20.722      0.000       0.934       1.146\n",
            "z             -0.3619      0.571     -0.634      0.535      -1.566       0.843\n",
            "==============================================================================\n",
            "Omnibus:                        1.295   Durbin-Watson:                   2.209\n",
            "Prob(Omnibus):                  0.523   Jarque-Bera (JB):                0.852\n",
            "Skew:                          -0.061   Prob(JB):                        0.653\n",
            "Kurtosis:                       1.996   Cond. No.                         66.7\n",
            "==============================================================================\n",
            "\n",
            "Notes:\n",
            "[1] Standard Errors assume that the covariance matrix of the errors is correctly specified.\n"
          ]
        }
      ]
    },
    {
      "cell_type": "code",
      "source": [
        "# Generate model data\n",
        "np.random.seed(5320)\n",
        "x = np.array(range(0, 20)) / 2\n",
        "error = np.round(np.random.randn(20), 2)\n",
        "y = 0.05 * x + error\n",
        "# The newly added irrelevant variable z is always equal to 1\n",
        "z = np.zeros(20) + 1\n",
        "data = pd.DataFrame({\"x\": x, \"z\": z, \"y\": y})"
      ],
      "metadata": {
        "id": "77ZhXhkZhlwk"
      },
      "execution_count": 5,
      "outputs": []
    },
    {
      "cell_type": "code",
      "source": [
        "# When there are no extra variables, the x coefficient sign is estimated correctly and is a positive number\n",
        "model = sm.OLS(data[['y']], data[['x']])\n",
        "re = model.fit()\n",
        "print(re.summary())"
      ],
      "metadata": {
        "colab": {
          "base_uri": "https://localhost:8080/"
        },
        "id": "cLsb6Nc8hwZd",
        "outputId": "8efa92ea-08e3-47a4-e19d-adaaa11db886"
      },
      "execution_count": 7,
      "outputs": [
        {
          "output_type": "stream",
          "name": "stdout",
          "text": [
            "                                 OLS Regression Results                                \n",
            "=======================================================================================\n",
            "Dep. Variable:                      y   R-squared (uncentered):                   0.204\n",
            "Model:                            OLS   Adj. R-squared (uncentered):              0.162\n",
            "Method:                 Least Squares   F-statistic:                              4.878\n",
            "Date:                Wed, 31 Jul 2024   Prob (F-statistic):                      0.0397\n",
            "Time:                        02:05:05   Log-Likelihood:                         -29.583\n",
            "No. Observations:                  20   AIC:                                      61.17\n",
            "Df Residuals:                      19   BIC:                                      62.16\n",
            "Df Model:                           1                                                  \n",
            "Covariance Type:            nonrobust                                                  \n",
            "==============================================================================\n",
            "                 coef    std err          t      P>|t|      [0.025      0.975]\n",
            "------------------------------------------------------------------------------\n",
            "x              0.0969      0.044      2.209      0.040       0.005       0.189\n",
            "==============================================================================\n",
            "Omnibus:                        0.871   Durbin-Watson:                   2.037\n",
            "Prob(Omnibus):                  0.647   Jarque-Bera (JB):                0.815\n",
            "Skew:                           0.275   Prob(JB):                        0.665\n",
            "Kurtosis:                       2.179   Cond. No.                         1.00\n",
            "==============================================================================\n",
            "\n",
            "Notes:\n",
            "[1] R² is computed without centering (uncentered) since the model does not contain a constant.\n",
            "[2] Standard Errors assume that the covariance matrix of the errors is correctly specified.\n"
          ]
        }
      ]
    },
    {
      "cell_type": "code",
      "source": [
        "# When adding extra variables, the sign of the x coefficient is estimated incorrectly and is negative\n",
        "model1 = sm.OLS(data[['y']], data[['x', 'z']])\n",
        "re1 = model1.fit()\n",
        "print(re1.summary())"
      ],
      "metadata": {
        "colab": {
          "base_uri": "https://localhost:8080/"
        },
        "id": "xaHCc1IMiCv0",
        "outputId": "afff1d7a-24a9-4cdd-8d52-618eb30ceb1f"
      },
      "execution_count": 9,
      "outputs": [
        {
          "output_type": "stream",
          "name": "stdout",
          "text": [
            "                            OLS Regression Results                            \n",
            "==============================================================================\n",
            "Dep. Variable:                      y   R-squared:                       0.005\n",
            "Model:                            OLS   Adj. R-squared:                 -0.050\n",
            "Method:                 Least Squares   F-statistic:                   0.09171\n",
            "Date:                Wed, 31 Jul 2024   Prob (F-statistic):              0.765\n",
            "Time:                        02:06:20   Log-Likelihood:                -27.982\n",
            "No. Observations:                  20   AIC:                             59.96\n",
            "Df Residuals:                      18   BIC:                             61.96\n",
            "Df Model:                           1                                         \n",
            "Covariance Type:            nonrobust                                         \n",
            "==============================================================================\n",
            "                 coef    std err          t      P>|t|      [0.025      0.975]\n",
            "------------------------------------------------------------------------------\n",
            "x             -0.0243      0.080     -0.303      0.765      -0.193       0.144\n",
            "z              0.7873      0.445      1.768      0.094      -0.148       1.723\n",
            "==============================================================================\n",
            "Omnibus:                        0.939   Durbin-Watson:                   2.375\n",
            "Prob(Omnibus):                  0.625   Jarque-Bera (JB):                0.886\n",
            "Skew:                           0.338   Prob(JB):                        0.642\n",
            "Kurtosis:                       2.221   Cond. No.                         11.0\n",
            "==============================================================================\n",
            "\n",
            "Notes:\n",
            "[1] Standard Errors assume that the covariance matrix of the errors is correctly specified.\n"
          ]
        }
      ]
    }
  ]
}